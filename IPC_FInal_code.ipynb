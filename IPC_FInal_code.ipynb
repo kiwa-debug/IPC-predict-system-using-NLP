{
  "nbformat": 4,
  "nbformat_minor": 0,
  "metadata": {
    "colab": {
      "provenance": [],
      "authorship_tag": "ABX9TyNdkZH3btOjobwkQpz+etB8",
      "include_colab_link": true
    },
    "kernelspec": {
      "name": "python3",
      "display_name": "Python 3"
    },
    "language_info": {
      "name": "python"
    }
  },
  "cells": [
    {
      "cell_type": "markdown",
      "metadata": {
        "id": "view-in-github",
        "colab_type": "text"
      },
      "source": [
        "<a href=\"https://colab.research.google.com/github/kiwa-debug/IPC-predict-system-using-NLP/blob/main/IPC_FInal_code.ipynb\" target=\"_parent\"><img src=\"https://colab.research.google.com/assets/colab-badge.svg\" alt=\"Open In Colab\"/></a>"
      ]
    },
    {
      "cell_type": "code",
      "execution_count": 1,
      "metadata": {
        "colab": {
          "base_uri": "https://localhost:8080/"
        },
        "id": "RZTzIdbq1Ges",
        "outputId": "d3b9dd4c-6607-4486-ae44-a041a4265f75"
      },
      "outputs": [
        {
          "output_type": "stream",
          "name": "stdout",
          "text": [
            "Looking in indexes: https://pypi.org/simple, https://us-python.pkg.dev/colab-wheels/public/simple/\n",
            "Collecting xlsxwriter\n",
            "  Downloading XlsxWriter-3.0.8-py3-none-any.whl (152 kB)\n",
            "\u001b[2K     \u001b[90m━━━━━━━━━━━━━━━━━━━━━━━━━━━━━━━━━━━━━━━\u001b[0m \u001b[32m152.8/152.8 KB\u001b[0m \u001b[31m3.7 MB/s\u001b[0m eta \u001b[36m0:00:00\u001b[0m\n",
            "\u001b[?25hInstalling collected packages: xlsxwriter\n",
            "Successfully installed xlsxwriter-3.0.8\n"
          ]
        }
      ],
      "source": [
        "pip install xlsxwriter"
      ]
    },
    {
      "cell_type": "code",
      "source": [
        "#Importing the Library\n",
        "import xlsxwriter\n",
        "import pandas as pd\n",
        "import numpy as np\n",
        "import ast\n",
        "from sklearn.preprocessing import MultiLabelBinarizer\n",
        "import tensorflow as tf\n",
        "from tensorflow.keras.layers import TextVectorization\n",
        "from tensorflow.keras import layers\n",
        "from keras.models import load_model\n",
        "from openpyxl import load_workbook\n",
        "import tensorflow_hub as hub\n",
        "#Importing Universal sentence encoder\n",
        "tf_hub_embedding_layer = hub.KerasLayer(\"https://tfhub.dev/google/universal-sentence-encoder/4\",\n",
        "                                        trainable=False,\n",
        "                                        name=\"universal_sentence_encoder\")"
      ],
      "metadata": {
        "colab": {
          "base_uri": "https://localhost:8080/"
        },
        "id": "Ipq3lcLY4YKp",
        "outputId": "d90565f3-0d09-411e-9308-8edd2ea2877d"
      },
      "execution_count": 2,
      "outputs": [
        {
          "output_type": "stream",
          "name": "stderr",
          "text": [
            "WARNING:tensorflow:Please fix your imports. Module tensorflow.python.training.tracking.data_structures has been moved to tensorflow.python.trackable.data_structures. The old module will be deleted in version 2.11.\n"
          ]
        }
      ]
    },
    {
      "cell_type": "code",
      "source": [
        "# Creating Model\n",
        "def IPC_Self_learning_Model(text):\n",
        "  train_data=pd.read_excel(\"ipc_data_1.xlsx\")\n",
        "  X = train_data[\"Offence\"].to_list()\n",
        "  X = np.array(X)\n",
        "  train_data_1= train_data['Section']\n",
        "  train_data_1 = train_data_1.apply(lambda x: ast.literal_eval(x))\n",
        "\n",
        "  multilabel = MultiLabelBinarizer()\n",
        "  y = multilabel.fit_transform(train_data_1)\n",
        "\n",
        "\n",
        "  # Define feature extractor model using TF Hub layer\n",
        "  inputs = layers.Input(shape=[], dtype=tf.string)\n",
        "  pretrained_embedding = tf_hub_embedding_layer(inputs) # tokenize text and create embedding\n",
        "  x = layers.Dense(128, activation=\"relu\")(pretrained_embedding) # add a fully connected layer on top of the embedding\n",
        "  # Note: you could add more layers here if you wanted to\n",
        "  outputs = layers.Dense(len(multilabel.classes_), activation=\"softmax\")(x) # create the output layer\n",
        "  model_1 = tf.keras.Model(inputs=inputs,\n",
        "                          outputs=outputs)\n",
        "  \n",
        "\n",
        "\n",
        "  # Compile the model\n",
        "  model_1.compile(loss=\"categorical_crossentropy\",\n",
        "                  optimizer=tf.keras.optimizers.Adam(),\n",
        "                  metrics=[\"accuracy\"])\n",
        "\n",
        "  model_1.fit(X,  y,\n",
        "               epochs=30,\n",
        "                verbose=0)\n",
        "  \n",
        "  text = np.array([text])\n",
        "  model_1_pred_probs = model_1.predict(text)\n",
        "  n=2\n",
        "  indices_2 = (-model_1_pred_probs).argsort()[:n]\n",
        "  q=[]\n",
        "  for r in range(0,4):\n",
        "    q.append(multilabel.classes_[indices_2[0,r]])\n",
        "  \n",
        "\n",
        "  return q"
      ],
      "metadata": {
        "id": "KK63GSN145jT"
      },
      "execution_count": 3,
      "outputs": []
    },
    {
      "cell_type": "code",
      "source": [
        "offence_ =\"riot and murder\" #Enter any offence u want"
      ],
      "metadata": {
        "id": "Roi_WMy349OR"
      },
      "execution_count": 4,
      "outputs": []
    },
    {
      "cell_type": "code",
      "source": [
        "#Prdict the ipc on given offence\n",
        "pred_ipc = IPC_Self_learning_Model(offence_)"
      ],
      "metadata": {
        "colab": {
          "base_uri": "https://localhost:8080/"
        },
        "id": "qjxYCOT_5D87",
        "outputId": "54245bd8-fd00-487e-f358-b85b501a6d09"
      },
      "execution_count": 5,
      "outputs": [
        {
          "output_type": "stream",
          "name": "stderr",
          "text": [
            "WARNING:tensorflow:From /usr/local/lib/python3.8/dist-packages/tensorflow/python/autograph/pyct/static_analysis/liveness.py:83: Analyzer.lamba_check (from tensorflow.python.autograph.pyct.static_analysis.liveness) is deprecated and will be removed after 2023-09-23.\n",
            "Instructions for updating:\n",
            "Lambda fuctions will be no more assumed to be used in the statement where they are used, or at least in the same block. https://github.com/tensorflow/tensorflow/issues/56089\n"
          ]
        },
        {
          "output_type": "stream",
          "name": "stdout",
          "text": [
            "1/1 [==============================] - 0s 470ms/step\n"
          ]
        }
      ]
    },
    {
      "cell_type": "code",
      "source": [
        "#Making a function so it can return the detail of given ipc and there punisgment\n",
        "data={}\n",
        "train_data=pd.read_excel(\"ipc_data_1.xlsx\")\n",
        "Off = train_data[\"Offence\"]\n",
        "\n",
        "punish = train_data[\"Punishment\"]\n",
        "\n",
        "train_data_1= train_data['Section']\n",
        "train_data_1 = train_data_1.apply(lambda x: ast.literal_eval(x))\n",
        "\n",
        "Sec_1= train_data_1\n",
        "\n",
        "for x in range(0,382):\n",
        "  data[Sec_1[x][0]]=[Off[x],punish[x]]\n",
        "\n",
        "def data_retrival(code):\n",
        "  detail = []\n",
        "  punishment = []\n",
        "  for i in code:  \n",
        "    detail.append(data[i][0])\n",
        "    punishment.append(data[i][1]);\n",
        "  for j in range(len(code)):\n",
        "    print(f\"{code[j]}\\n Detail:{detail[j]}\\n Punishment:{punishment[j]}\")"
      ],
      "metadata": {
        "id": "_GogVHmd5M3r"
      },
      "execution_count": 13,
      "outputs": []
    },
    {
      "cell_type": "code",
      "source": [
        "#Predicted IPC with there detail and punishment\n",
        "data_retrival(pred_ipc)"
      ],
      "metadata": {
        "colab": {
          "base_uri": "https://localhost:8080/"
        },
        "id": "ENghmA8d5PX9",
        "outputId": "aa080573-57d9-40bd-cb5e-2e96285e0fe5"
      },
      "execution_count": 14,
      "outputs": [
        {
          "output_type": "stream",
          "name": "stdout",
          "text": [
            "147 IPC\n",
            " Detail:Rioting\n",
            " Punishment:Imprisonment for 2 years, or fine, or both\n",
            "148 IPC\n",
            " Detail:Rioting armed with a deadly weapon.\n",
            " Punishment:Imprisonment for 3 years, or fine, or both.\n",
            "302 IPC\n",
            " Detail:Murder\n",
            " Punishment:Death, or imprisonmentfor life, and fine\n",
            "311 IPC\n",
            " Detail:Being a thug\n",
            " Punishment:Imprisonment for life and fine.\n"
          ]
        }
      ]
    }
  ]
}